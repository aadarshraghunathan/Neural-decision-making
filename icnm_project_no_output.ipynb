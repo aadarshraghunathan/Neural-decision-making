{
  "nbformat": 4,
  "nbformat_minor": 0,
  "metadata": {
    "colab": {
      "provenance": [],
      "collapsed_sections": [],
      "include_colab_link": true
    },
    "kernelspec": {
      "name": "python3",
      "display_name": "Python 3"
    },
    "language_info": {
      "name": "python"
    }
  },
  "cells": [
    {
      "cell_type": "markdown",
      "metadata": {
        "id": "view-in-github",
        "colab_type": "text"
      },
      "source": [
        "<a href=\"https://colab.research.google.com/github/aadarshraghunathan/Neural-decision-making/blob/main/icnm_project_no_output.ipynb\" target=\"_parent\"><img src=\"https://colab.research.google.com/assets/colab-badge.svg\" alt=\"Open In Colab\"/></a>"
      ]
    },
    {
      "cell_type": "code",
      "metadata": {
        "id": "oaSp0ZKxEtjs"
      },
      "source": [
        "%pylab inline \n",
        "import random "
      ],
      "execution_count": null,
      "outputs": []
    },
    {
      "cell_type": "markdown",
      "metadata": {
        "id": "jnlcetdKNh2a"
      },
      "source": [
        "Part 1: Setting up the neuron network "
      ]
    },
    {
      "cell_type": "code",
      "metadata": {
        "id": "dZo5AUIxE7ZB"
      },
      "source": [
        "class MP_Neuron:\n",
        "  def __init__(self,state,id):\n",
        "    self.state = state\n",
        "    self.id = id \n",
        "\n",
        "def update(neuron_id,theta): ### update for the ith neuron , theta is the global inhibition factor \n",
        "  global neuron_list,adj_mat,N\n",
        "  update_val = 0\n",
        "  weight_sum = 0 \n",
        "  state_sum = 0 \n",
        "  for j in range(N):\n",
        "    update_val += (neuron_list[j].state)*adj_mat[neuron_id][j] \n",
        "    weight_sum += adj_mat[neuron_id][j]\n",
        "    state_sum += neuron_list[j].state\n",
        "\n",
        "  update_factor = update_val/weight_sum\n",
        "  inhibit_factor = (state_sum/N)**2\n",
        "  # print(inhibit_factor)\n",
        "  inhibit_factor /= theta\n",
        "  print(update_factor)\n",
        "  print(inhibit_factor)\n",
        "  if update_factor > inhibit_factor:\n",
        "    neuron_list[neuron_id].state = 1\n",
        "  else:\n",
        "    neuron_list[neuron_id].state = 0 \n",
        "  if(neuron_list_copy[neuron_id].state != neuron_list[neuron_id].state):\n",
        "    print(\"Change\")\n",
        "\n",
        "    \n",
        "\n"
      ],
      "execution_count": null,
      "outputs": []
    },
    {
      "cell_type": "code",
      "metadata": {
        "id": "iNf0XtrPFugf"
      },
      "source": [
        "### creating all the neurons \n",
        "neuron_list = []\n",
        "neuron_list_copy = []\n",
        "N = 1000 ### number of neurons in the network\n",
        "for i in range(N):\n",
        "  ### randomise inital state, with 0.13(theta) probability of firing  \n",
        "  rand_state =  random.uniform(0,1)\n",
        "  if rand_state < 0.13 :\n",
        "    state = 1 \n",
        "  else :\n",
        "    state = 0\n",
        "  neuron = MP_Neuron(state,i)\n",
        "  neuron_list.append(neuron)\n",
        "  neuron_list_copy.append(neuron)\n",
        "  \n"
      ],
      "execution_count": null,
      "outputs": []
    },
    {
      "cell_type": "code",
      "metadata": {
        "id": "Q5r9ydQlIrVV"
      },
      "source": [
        "### creating the graph between the neurons by making an adjacency matrix \n",
        "adj_mat = np.zeros((N,N), dtype = int )\n",
        "\n",
        "### setting the connections with probability 0.36 (so far not considering attractor networks)\n",
        "for i in range(N):\n",
        "  for j in range(N):\n",
        "    rand_connection = random.uniform(0,1)\n",
        "    if rand_connection < 0.36:\n",
        "      adj_mat[i][j] = 1 \n",
        "    else :\n",
        "      adj_mat[i][j] = 0 \n",
        "\n",
        "print(adj_mat)"
      ],
      "execution_count": null,
      "outputs": []
    },
    {
      "cell_type": "code",
      "metadata": {
        "id": "rO2as_8PjRY1",
        "collapsed": true
      },
      "source": [
        "### initialising the random time delays for updates \n",
        "### if neuron is active , use l1 = 0.07 \n",
        "### if neuron is not active  , use l2 = 0.005\n",
        "\n",
        "l1 = 0.07 \n",
        "l2 = 0.005 \n",
        "\n",
        "time_update = np.zeros((N))\n",
        "for i in range(N):\n",
        "  if(neuron_list[i].state == 1 ):\n",
        "    t = np.random.exponential(scale = 1/l1)\n",
        "    time_update[i]= int(t)\n",
        "  else:\n",
        "    t = np.random.exponential(scale = 1/l2)\n",
        "    time_update[i] = int(t)\n",
        "print(time_update)\n"
      ],
      "execution_count": null,
      "outputs": []
    },
    {
      "cell_type": "code",
      "metadata": {
        "id": "XVmY1DOsqGg2"
      },
      "source": [
        "### updating all the neurons \n",
        "### after updating the value , update the values in the time_update array \n",
        "check_update = np.zeros(1000)\n",
        "for t in range(100000):\n",
        "  print(t)\n",
        "  for i in range(N):\n",
        "    if(time_update[i] == t):\n",
        "      # print(\"yeet\")\n",
        "      update(i,1.3)\n",
        "      check_update[i] += 1\n",
        "      if(neuron_list[i].state == 1 ):\n",
        "       x = np.random.exponential(scale = 1/l1)\n",
        "       time_update[i] += int(x)\n",
        "      else:\n",
        "       x = np.random.exponential(scale = 1/l2)\n",
        "       time_update[i] += int(x)\n"
      ],
      "execution_count": null,
      "outputs": []
    },
    {
      "cell_type": "code",
      "metadata": {
        "id": "MITGp5_oSYVt"
      },
      "source": [
        "print(check_update)"
      ],
      "execution_count": null,
      "outputs": []
    },
    {
      "cell_type": "code",
      "metadata": {
        "id": "WaswetN2R43r"
      },
      "source": [
        "for i in neuron_list:\n",
        "  print(i.state, end= \" \")\n",
        "print(\"\")\n",
        "for j in neuron_list_copy:\n",
        "  print(j.state, end = \" \")"
      ],
      "execution_count": null,
      "outputs": []
    },
    {
      "cell_type": "markdown",
      "metadata": {
        "id": "q_FRCkMdNcyV"
      },
      "source": [
        "Part 2: Simulating the decision making process"
      ]
    },
    {
      "cell_type": "code",
      "metadata": {
        "id": "6SXNq5Nttfes"
      },
      "source": [
        "### functions to create the two attractor regions , and also update the graph weights when the attractor sets are created \n",
        "def create_attractor_sets():\n",
        "  choice = [i for i in range(1000)]\n",
        "  A = []\n",
        "  B = []\n",
        "  for i in range(100):\n",
        "    picked = np.random.choice(choice) \n",
        "    A.append(picked)\n",
        "    choice.remove(picked)\n",
        "\n",
        "  for i in range(100):\n",
        "    picked = np.random.choice(choice)\n",
        "    B.append(picked)\n",
        "    choice.remove(picked)\n",
        "  \n",
        "  return A,B\n",
        "\n",
        "def update_weights(A,B):\n",
        "  global adj_mat\n",
        "  for i in range(100):\n",
        "    for j in range(100):\n",
        "      rand_connection = random.uniform(0,1)\n",
        "      if rand_connection < 0.55:\n",
        "        adj_mat[A[i]][A[j]] = 1 \n",
        "        adj_mat[B[i]][B[j]] = 1 \n",
        "      else :\n",
        "        adj_mat[A[i]][A[j]] = 0 \n",
        "        adj_mat[B[i]][B[j]] = 0 \n",
        "\n",
        "\n",
        "\n"
      ],
      "execution_count": null,
      "outputs": []
    },
    {
      "cell_type": "code",
      "metadata": {
        "id": "FL8IhXn2WAg6"
      },
      "source": [
        "### create the attractor sets \n",
        "A,B = create_attractor_sets()\n",
        "### update the graph weights \n",
        "update_weights(A,B)\n",
        "\n"
      ],
      "execution_count": null,
      "outputs": []
    },
    {
      "cell_type": "code",
      "metadata": {
        "id": "gdPjW2BGaklN"
      },
      "source": [
        "### function to create the two stimulus sets Sa and Sb \n",
        "### these sets are of random size in the range 1-100\n",
        "### also function to update connections between the stimulus and the attractor sets \n",
        "\n",
        "def create_stimulus(A,B):\n",
        "    choice = [i for i in range(1000)]\n",
        "    for i in A:\n",
        "      choice.remove(i)\n",
        "    for j in B:\n",
        "      choice.remove(j)\n",
        "    size_SA = np.random.binomial(20,0.5)\n",
        "    size_SB = np.random.binomial(20,0.5)\n",
        "    SA = []\n",
        "    SB = [] \n",
        "    for i in range(size_SA):\n",
        "      picked = np.random.choice(choice)\n",
        "      SA.append(picked)\n",
        "      neuron_list[picked].state =1 \n",
        "      choice.remove(picked)\n",
        "    for i in range(size_SB):\n",
        "      picked = np.random.choice(choice)\n",
        "      SB.append(picked) \n",
        "      neuron_list[picked].state = 1 \n",
        "      choice.remove(picked)\n",
        "\n",
        "    return SA,SB\n",
        "\n",
        "def update_weights_stimulus(A,B,SA,SB):\n",
        "    global adj_mat\n",
        "    for i in SA:\n",
        "      for j in A:\n",
        "        rand_connection = random.uniform(0,1)\n",
        "        if rand_connection < 0.55:\n",
        "          adj_mat[i][j] = 1 \n",
        "        else :\n",
        "          adj_mat[i][j] = 0 \n",
        "\n",
        "    for i in SB:\n",
        "      for j in B:\n",
        "        rand_connection = random.uniform(0,1)\n",
        "        if rand_connection < 0.55:\n",
        "          adj_mat[i][j] = 1 \n",
        "        else :\n",
        "          adj_mat[i][j] = 0 \n",
        "\n",
        "\n",
        "\n",
        "      \n",
        "\n",
        "\n",
        "    "
      ],
      "execution_count": null,
      "outputs": []
    },
    {
      "cell_type": "code",
      "metadata": {
        "id": "TJ-4TLzl0jx1"
      },
      "source": [
        "### create the stimulus for the simulation \n",
        "SA,SB = create_stimulus(A,B)\n",
        "### update all the connections between the stimulus set and the attractor set\n",
        "update_weights_stimulus(A,B,SA,SB)\n",
        "print(SA)\n",
        "print(SB)"
      ],
      "execution_count": null,
      "outputs": []
    },
    {
      "cell_type": "markdown",
      "metadata": {
        "id": "WTpzS8vXx3td"
      },
      "source": [
        "Now, we need to decide the winner. To do this , run 100000 updates and if one set A or B dominates the other for 500 consecutive steps, they are declared the winner ."
      ]
    },
    {
      "cell_type": "code",
      "metadata": {
        "id": "ZGiGDxKcyNPp"
      },
      "source": [
        "time_update = np.zeros((N))\n",
        "for i in range(N):\n",
        "  if(neuron_list[i].state == 1 ):\n",
        "    t = np.random.exponential(scale = 1/l1)\n",
        "    time_update[i]= int(t)\n",
        "  else:\n",
        "    t = np.random.exponential(scale = 1/l2)\n",
        "    time_update[i] = int(t)"
      ],
      "execution_count": null,
      "outputs": []
    },
    {
      "cell_type": "code",
      "metadata": {
        "id": "mnXvZWSCyf-4"
      },
      "source": [
        "### function to check which decision is winning \n",
        "### return 1 for A winning , 0 for no decision , -1 for B winning\n",
        "def check_winner(A,B):\n",
        "  sum_A = 0 \n",
        "  sum_B = 0\n",
        "  for i in A:\n",
        "    sum_A += neuron_list[i].state\n",
        "  for j in B:\n",
        "    sum_B += neuron_list[j].state\n",
        "\n",
        "  sum_A /= 100\n",
        "  sum_B /= 100 \n",
        "  print(sum_A)\n",
        "  print(sum_B)\n",
        "  if(sum_A - sum_B >= 0.75):\n",
        "    return 1 \n",
        "  elif(sum_B - sum_A >= 0.75):\n",
        "    return -1\n",
        "  else:\n",
        "    return 0 \n",
        "\n"
      ],
      "execution_count": null,
      "outputs": []
    },
    {
      "cell_type": "code",
      "metadata": {
        "id": "QvqivDyhyUs6"
      },
      "source": [
        "### updating all the neurons \n",
        "### after updating the value , update the values in the time_update array\n",
        "\n",
        "for t in range(100000):\n",
        "  for i in range(N):\n",
        "    if(time_update[i] == t):\n",
        "      if(i in SA or i in SB):\n",
        "        continue\n",
        "      update(i,1)\n",
        "      if(neuron_list[i].state == 1 ):\n",
        "       t = np.random.exponential(scale = 1/l1)\n",
        "       time_update[i] += int(t)\n",
        "      else:\n",
        "       t = np.random.exponential(scale = 1/l2)\n",
        "       time_update[i] += int(t)\n",
        "      \n",
        "  if(check_winner(A,B) != 0 ):\n",
        "    print(\"YAY\")\n",
        "  for i in A:\n",
        "    print(neuron_list[i].state, end=\" \")"
      ],
      "execution_count": null,
      "outputs": []
    },
    {
      "cell_type": "code",
      "metadata": {
        "id": "_RhHa5c81uT2"
      },
      "source": [],
      "execution_count": null,
      "outputs": []
    }
  ]
}